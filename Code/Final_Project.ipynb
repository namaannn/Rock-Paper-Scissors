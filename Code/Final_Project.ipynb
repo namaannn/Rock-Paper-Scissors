{
 "cells": [
  {
   "cell_type": "code",
   "execution_count": 1,
   "metadata": {},
   "outputs": [],
   "source": [
    "from tkinter import *\n",
    "import random\n",
    "r=Tk()\n",
    "r.geometry('400x450')\n",
    "r.resizable(0,0)\n",
    "r.title('ROCK-PAPER-SCISSOR')\n",
    "r.configure(bg='seashell3')\n",
    "Label(r, text='Rock Paper Scissor', font ='arial 20', bg= 'seashell2').pack()\n",
    "n1=StringVar()\n",
    "Label(r, text='Choose among rock, paper, scissor', font='arial 15', bg='seashell2').place(x=25,y=50)\n",
    "Entry(r,font='arial 15', textvariable=n1, bg='antiquewhite2').place(x=80,y=125)\n",
    "comp=random.randint(1,3)\n",
    "if(comp==1):\n",
    "    comp='rock'\n",
    "elif(comp==2):\n",
    "    comp='paper'\n",
    "else:\n",
    "    comp='scissors'\n",
    "\n",
    "Ans=StringVar()\n",
    "def game():\n",
    "    n=n1.get()\n",
    "    if(n==comp):\n",
    "        Ans.set('Its a draw')\n",
    "    elif(n=='rock' and comp=='paper'):\n",
    "        Ans.set('Computer selects paper and wins')\n",
    "    elif(n=='rock' and comp=='scissors'):\n",
    "        Ans.set('You win as computer selects scissors')\n",
    "    elif(n=='paper' and comp=='scissors'):\n",
    "        Ans.set('Computer selects scissors and wins')\n",
    "    elif(n=='paper' and comp=='rock'):\n",
    "        Ans.set('You win as computer selects rock')\n",
    "    elif(n=='scissors' and comp=='rock'):\n",
    "        Ans.set('Computer selects rock and wins')\n",
    "    elif(n=='scissors' and comp=='paper'):\n",
    "        Ans.set('You win as computer selects paper')\n",
    "    else:\n",
    "        Ans.set('Invalid choice')\n",
    "        \n",
    "def Reset():\n",
    "    Ans.set(\"\")\n",
    "    n1.set(\"\")\n",
    "\n",
    "def Exit():\n",
    "    r.destroy()\n",
    "\n",
    "Entry(r, font = 'arial 10 ', textvariable = Ans, bg ='antiquewhite2',width = 50,).place(x=25, y = 250)\n",
    "Button(r, font = 'arial 13 ', text = 'PLAY'  ,padx =5, bg ='seashell4' ,command = game).place(x=150,y=190)\n",
    "Button(r, font = 'arial 13 ', text = 'RESET'  ,padx =5, bg ='seashell4' ,command = Reset).place(x=70,y=310)\n",
    "Button(r, font = 'arial 13 ', text = 'EXIT'  ,padx =5, bg ='seashell4' ,command = Exit).place(x=230,y=310)\n",
    "r.mainloop()\n"
   ]
  },
  {
   "cell_type": "code",
   "execution_count": null,
   "metadata": {},
   "outputs": [],
   "source": []
  }
 ],
 "metadata": {
  "kernelspec": {
   "display_name": "Python 3",
   "language": "python",
   "name": "python3"
  },
  "language_info": {
   "codemirror_mode": {
    "name": "ipython",
    "version": 3
   },
   "file_extension": ".py",
   "mimetype": "text/x-python",
   "name": "python",
   "nbconvert_exporter": "python",
   "pygments_lexer": "ipython3",
   "version": "3.8.3"
  }
 },
 "nbformat": 4,
 "nbformat_minor": 4
}
